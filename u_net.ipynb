{
 "cells": [
  {
   "cell_type": "markdown",
   "metadata": {},
   "source": [
    "# Encoder-Decoder architectures (U-Net)"
   ]
  },
  {
   "cell_type": "markdown",
   "metadata": {},
   "source": [
    "## Introduction: Semantic segmentation"
   ]
  },
  {
   "cell_type": "markdown",
   "metadata": {},
   "source": [
    "What do medical imaging, autonomous cars and satellite imagery have in common? In each of these fields, you need to be able to detect distinct objects with great precision. Perfect, you already know an arsenal of deep-learning techniques for object detection. However, here we need something more precise than simple coarse detection, namely to know contours with a high degree of accuracy, whether it's counting cells, not mistaking a pedestrian for a lamppost or detecting undeclared private swimming pools [[1]].\n",
    "\n",
    "[1]: https://www.numerama.com/tech/1410142-le-fisc-a-debusque-120-000-piscines-non-declarees-avec-lintelligence-artificielle.html"
   ]
  },
  {
   "cell_type": "markdown",
   "metadata": {},
   "source": [
    "| <img src=\"img/cells_detection.jpg\" alt=\"Image 1\" width=\"600\"/> | <img src=\"img/Tesla-Autopilot.jpg\" alt=\"Image 2\" width=\"600\"/> | <img src=\"img/Sattelite_image.png\" alt=\"Image 3\" width=\"600\"/> |\n",
    "|:--:|:--:|:--:|\n",
    "| [Image 1 Source](https://www.semanticscholar.org/paper/Cell-Segmentation-by-Combining-Marker-Controlled-Lux-Matula/5d61a6af14d1d66c121f99843a03de6cd45ac51e) | [Image 2 Source](https://www.teslarati.com/tesla-3d-labeling-autopilot-reliability-big-leap/) | [Image 3 Source](https://www.semanticscholar.org/paper/Satellite-Image-Semantic-Segmentation-Using-Fully-Yoshihara-Hascoet/9e31c11b678e4ba0cbb8cb96094a68e4969fb8b8/figure/1)"
   ]
  },
  {
   "cell_type": "markdown",
   "metadata": {},
   "source": [
    "They employ a common technique known as image segmentation, which is a computer vision method that automatically divides an image into regions of pixels associated with the same object class. Image segmentation manifests in two primary forms: semantic segmentation and instance segmentation. Semantic segmentation involves classifying image pixels as either belonging or not belonging to a specific category. Conversely, instance segmentation provides more detailed information by delineating distinct instances of the same object, such as identifying multiple cats in one image instead of a single 'blob' labeled 'cats'. If one desires to perform both types of segmentation simultaneously, as seen in autonomous driving applications where the road is identified as one 'blob' (semantic segmentation) and each pedestrian is individually outlined (instance segmentation), the combined use of both techniques is referred to as [panoptic segmentation](https://paperswithcode.com/task/panoptic-segmentation). This entails employing both methods concurrently on different parts of the image."
   ]
  },
  {
   "cell_type": "markdown",
   "metadata": {},
   "source": [
    "<div style=\"text-align:center;\">\n",
    "  <img src=\"img/instant_vs_semantic.png\" alt=\"Image 1\" width=\"400\"/>\n",
    "\n",
    "  [Image 1 Source](https://larevueia.fr/quest-ce-que-la-segmentation-dimages/)\n",
    "</div>"
   ]
  },
  {
   "cell_type": "markdown",
   "metadata": {},
   "source": [
    "<details>\n",
    "  <summary>Click to reveal hidden text</summary>\n",
    "  \n",
    "  If you've been paying attention, yes, the image of what the autonomous car sees is not a good representation of image segmentation, it's a simple object detection, since the contours are coarse.\n",
    "  Mode detail [here](https://www.picsellia.com/post/segmentation-vs-detection-vs-classification-in-computer-vision-a-comparative-analysis).\n",
    "</details>\n"
   ]
  },
  {
   "cell_type": "markdown",
   "metadata": {},
   "source": [
    "So how do you go about it? Well, there are a number of techniques available, and it doesn't necessarily have to be deep-learning. We're going to look at medical images, because they're often difficult to analyze correctly, and I'm going to start by giving you a simple task: can you count the number of bacteria in this image?"
   ]
  },
  {
   "cell_type": "markdown",
   "metadata": {},
   "source": [
    "<div style=\"text-align:center;\">\n",
    "  <img src=\"img/bacteria.png\" alt=\"Image 1\" width=\"400\"/>\n",
    "\n",
    "  [Image 1 Source](https://www.google.com/url?sa=i&url=https%3A%2F%2Fwww.fbioyf.unr.edu.ar%2Fevirtual%2Fmod%2Fresource%2Fview.php%3Fid%3D6917&psig=AOvVaw0hPUnk2E44hUssIgVC6Ohi&ust=1705932070552000&source=images&cd=vfe&opi=89978449&ved=0CBQQjhxqFwoTCKjVkubR7oMDFQAAAAAdAAAAABAJ)\n",
    "</div>"
   ]
  },
  {
   "cell_type": "markdown",
   "metadata": {},
   "source": [
    "<details>\n",
    "  <summary style=\"color: red; cursor: pointer;\">Answer</summary>\n",
    "  \n",
    "  53\n",
    "</details>\n"
   ]
  },
  {
   "cell_type": "markdown",
   "metadata": {},
   "source": [
    "||This is a spoiler!||\n"
   ]
  },
  {
   "cell_type": "markdown",
   "metadata": {},
   "source": [
    "![Image Alt Text](img/U_net_visualization.png)\n",
    "\n",
    "Source: [Image Source](https://arxiv.org/pdf/1505.04597.pdf)"
   ]
  },
  {
   "cell_type": "markdown",
   "metadata": {},
   "source": [
    "https://arxiv.org/pdf/1505.04597.pdf\n",
    "https://datascientest.com/u-net\n",
    "https://larevueia.fr/quest-ce-que-la-segmentation-dimages/\n",
    "https://www.superannotate.com/blog/guide-to-semantic-segmentation\n",
    "https://blent.ai/blog/a/unet-computer-vision"
   ]
  },
  {
   "cell_type": "code",
   "execution_count": null,
   "metadata": {},
   "outputs": [],
   "source": []
  }
 ],
 "metadata": {
  "kernelspec": {
   "display_name": "sdd_env",
   "language": "python",
   "name": "python3"
  },
  "language_info": {
   "codemirror_mode": {
    "name": "ipython",
    "version": 3
   },
   "file_extension": ".py",
   "mimetype": "text/x-python",
   "name": "python",
   "nbconvert_exporter": "python",
   "pygments_lexer": "ipython3",
   "version": "3.10.12"
  }
 },
 "nbformat": 4,
 "nbformat_minor": 2
}
